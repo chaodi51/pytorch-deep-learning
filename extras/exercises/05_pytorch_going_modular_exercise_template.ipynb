{
  "nbformat": 4,
  "nbformat_minor": 0,
  "metadata": {
    "colab": {
      "name": "05_pytorch_going_modular_exercise_template.ipynb",
      "provenance": [],
      "include_colab_link": true
    },
    "kernelspec": {
      "name": "python3",
      "display_name": "Python 3"
    },
    "language_info": {
      "name": "python"
    },
    "accelerator": "GPU"
  },
  "cells": [
    {
      "cell_type": "markdown",
      "metadata": {
        "id": "view-in-github",
        "colab_type": "text"
      },
      "source": [
        "<a href=\"https://colab.research.google.com/github/chaodi51/pytorch-deep-learning/blob/main/extras/exercises/05_pytorch_going_modular_exercise_template.ipynb\" target=\"_parent\"><img src=\"https://colab.research.google.com/assets/colab-badge.svg\" alt=\"Open In Colab\"/></a>"
      ]
    },
    {
      "cell_type": "markdown",
      "source": [
        "# 05. PyTorch Going Modular Exercises\n",
        "\n",
        "Welcome to the 05. PyTorch Going Modular exercise template notebook.\n",
        "\n",
        "There are several questions in this notebook and it's your goal to answer them by writing Python and PyTorch code.\n",
        "\n",
        "> **Note:** There may be more than one solution to each of the exercises, don't worry too much about the *exact* right answer. Try to write some code that works first and then improve it if you can.\n",
        "\n",
        "## Resources and solutions\n",
        "\n",
        "* These exercises/solutions are based on [section 05. PyTorch Going Modular](https://www.learnpytorch.io/05_pytorch_going_modular/) of the Learn PyTorch for Deep Learning course by Zero to Mastery.\n",
        "\n",
        "**Solutions:**\n",
        "\n",
        "Try to complete the code below *before* looking at these.\n",
        "\n",
        "* See a live [walkthrough of the solutions (errors and all) on YouTube](https://youtu.be/ijgFhMK3pp4).\n",
        "* See an example [solutions notebook for these exercises on GitHub](https://github.com/mrdbourke/pytorch-deep-learning/blob/main/extras/solutions/05_pytorch_going_modular_exercise_solutions.ipynb)."
      ],
      "metadata": {
        "id": "zNqPNlYylluR"
      }
    },
    {
      "cell_type": "markdown",
      "source": [
        "## 1. Turn the code to get the data (from section 1. Get Data) into a Python script, such as `get_data.py`.\n",
        "\n",
        "* When you run the script using `python get_data.py` it should check if the data already exists and skip downloading if it does.\n",
        "* If the data download is successful, you should be able to access the `pizza_steak_sushi` images from the `data` directory."
      ],
      "metadata": {
        "id": "bicbWSrPmfTU"
      }
    },
    {
      "cell_type": "code",
      "source": [
        "# YOUR CODE HERE\n",
        "# %%writefile get_data.py\n",
        "import os\n",
        "import zipfile\n",
        "from pathlib import Path\n",
        "import requests\n",
        "import io\n",
        "\n",
        "# setup download folder\n",
        "data_path = Path('./data')\n",
        "image_path = data_path / \"pizza_steak_sushi\"\n",
        "\n",
        "# If the image folder doesn't exist, download it and prepare it...\n",
        "if not image_path.is_dir():\n",
        "    print(f\"{image_path} directory does not exist, making one.\")\n",
        "    image_path.mkdir(exist_ok=True, parents=True)\n",
        "else:\n",
        "    print(f\"{image_path} directory exists.\")\n",
        "\n",
        "# Download pizza, steak, sushi data\n",
        "response = requests.get(\"https://github.com/mrdbourke/pytorch-deep-learning/raw/main/data/pizza_steak_sushi.zip\", stream=True)\n",
        "# Unzip pizza, steak, sushi data\n",
        "with zipfile.ZipFile(io.BytesIO(response.content)) as z:\n",
        "    z.extractall(image_path)\n",
        "    print(f\"Files extracted to {image_path}\")\n"
      ],
      "metadata": {
        "id": "r0BCn1XIYZ8c",
        "colab": {
          "base_uri": "https://localhost:8080/"
        },
        "outputId": "c93e9fb8-c9d6-475c-ff9e-d60c88ba25d3"
      },
      "execution_count": 1,
      "outputs": [
        {
          "output_type": "stream",
          "name": "stdout",
          "text": [
            "data/pizza_steak_sushi directory does not exist, making one.\n",
            "Files extracted to data/pizza_steak_sushi\n"
          ]
        }
      ]
    },
    {
      "cell_type": "code",
      "source": [
        "# Example running of get_data.py\n",
        "!python get_data.py"
      ],
      "metadata": {
        "id": "_LrUOIC-YOP9",
        "colab": {
          "base_uri": "https://localhost:8080/"
        },
        "outputId": "d9c98509-02c1-413a-ec9f-b1e45beb788d"
      },
      "execution_count": 2,
      "outputs": [
        {
          "output_type": "stream",
          "name": "stdout",
          "text": [
            "python3: can't open file '/content/get_data.py': [Errno 2] No such file or directory\n"
          ]
        }
      ]
    },
    {
      "cell_type": "markdown",
      "source": [
        "## 2. Use [Python's `argparse` module](https://docs.python.org/3/library/argparse.html) to be able to send the `train.py` custom hyperparameter values for training procedures.\n",
        "* Add an argument flag for using a different:\n",
        "  * Training/testing directory\n",
        "  * Learning rate\n",
        "  * Batch size\n",
        "  * Number of epochs to train for\n",
        "  * Number of hidden units in the TinyVGG model\n",
        "    * Keep the default values for each of the above arguments as what they already are (as in notebook 05).\n",
        "* For example, you should be able to run something similar to the following line to train a TinyVGG model with a learning rate of 0.003 and a batch size of 64 for 20 epochs: `python train.py --learning_rate 0.003 batch_size 64 num_epochs 20`.\n",
        "* **Note:** Since `train.py` leverages the other scripts we created in section 05, such as, `model_builder.py`, `utils.py` and `engine.py`, you'll have to make sure they're available to use too. You can find these in the [`going_modular` folder on the course GitHub](https://github.com/mrdbourke/pytorch-deep-learning/tree/main/going_modular/going_modular)."
      ],
      "metadata": {
        "id": "zjyn7LU3mvkR"
      }
    },
    {
      "cell_type": "code",
      "source": [
        "# make the modules folder, which will host the follows:\n",
        "\"\"\"\n",
        "data_setup.py - a file to prepare and download data if needed.\n",
        "engine.py - a file containing various training functions.\n",
        "model_builder.py - a file to create a PyTorch TinyVGG model.\n",
        "train.py - a file to leverage all other files and train a target PyTorch model.\n",
        "utils.py - a file dedicated to helpful utility functions.\n",
        "Extra: predictions.py - a file for making predictions with a trained PyTorch model and input image model_builder.py, utils.py and engine.py\n",
        "\"\"\"\n",
        "\n",
        "import os\n",
        "from pathlib import Path\n",
        "\n",
        "module_dir = Path('./going_modular')\n",
        "module_dir.mkdir(parents=True, exist_ok=True)\n",
        "file_path = module_dir / 'data_step.py'"
      ],
      "metadata": {
        "id": "uyV-J-ok-iJe"
      },
      "execution_count": 3,
      "outputs": []
    },
    {
      "cell_type": "code",
      "source": [
        "str(module_dir / 'data_step.py')"
      ],
      "metadata": {
        "colab": {
          "base_uri": "https://localhost:8080/",
          "height": 35
        },
        "id": "-9jgnSxZA0mx",
        "outputId": "c162cffa-dcc2-4337-bb3d-d276822beb42"
      },
      "execution_count": 4,
      "outputs": [
        {
          "output_type": "execute_result",
          "data": {
            "text/plain": [
              "'going_modular/data_step.py'"
            ],
            "application/vnd.google.colaboratory.intrinsic+json": {
              "type": "string"
            }
          },
          "metadata": {},
          "execution_count": 4
        }
      ]
    },
    {
      "cell_type": "code",
      "source": [
        "\n",
        "%%writefile going_modular/data_step.py\n",
        "\n",
        "\"\"\"\n",
        "Contains functionality for creating PyTorch DataLoaders for\n",
        "image classification data.\n",
        "\"\"\"\n",
        "import os\n",
        "from typing import Tuple, List\n",
        "from torchvision import datasets, transforms\n",
        "from torch.utils.data import DataLoader\n",
        "\n",
        "NUM_WORKERS = os.cpu_count()\n",
        "\n",
        "def create_dataloaders(\n",
        "    train_dir: str,\n",
        "    test_dir: str,\n",
        "    transform: transforms.Compose,\n",
        "    batch_size: int,\n",
        "    num_workers: int=NUM_WORKERS\n",
        ") -> Tuple[DataLoader, DataLoader, List[str]]:\n",
        "\n",
        "    \"\"\"Creates training and testing DataLoaders.\n",
        "\n",
        "    Takes in a training directory and testing directory path and turns\n",
        "    them into PyTorch Datasets and then into PyTorch DataLoaders.\n",
        "\n",
        "    Args:\n",
        "      train_dir: Path to training directory.\n",
        "      test_dir: Path to testing directory.\n",
        "      transform: torchvision transforms to perform on training and testing data.\n",
        "      batch_size: Number of samples per batch in each of the DataLoaders.\n",
        "      num_workers: An integer for number of workers per DataLoader.\n",
        "\n",
        "    Returns:\n",
        "      A tuple of (train_dataloader, test_dataloader, class_names).\n",
        "      Where class_names is a list of the target classes.\n",
        "      Example usage:\n",
        "        train_dataloader, test_dataloader, class_names = \\\n",
        "          = create_dataloaders(train_dir=path/to/train_dir,\n",
        "                              test_dir=path/to/test_dir,\n",
        "                              transform=some_transform,\n",
        "                              batch_size=32,\n",
        "                              num_workers=4)\n",
        "    \"\"\"\n",
        "\n",
        "    # load training and testing datasets\n",
        "    train_data = datasets.ImageFolder(train_dir, transform=transform)\n",
        "    test_data = datasets.ImageFolder(test_dir, transform=transform)\n",
        "\n",
        "    # get class names\n",
        "    class_names = train_data.classes\n",
        "\n",
        "    # creat DataLoader\n",
        "    train_dataloader = DataLoader(\n",
        "        train_data,\n",
        "        batch_size=batch_size,\n",
        "        shuffle=True,\n",
        "        num_workers=num_workers,\n",
        "        pin_memory=True,\n",
        "    )\n",
        "\n",
        "    test_dataloader = DataLoader(\n",
        "        test_data,\n",
        "        batch_size=batch_size,\n",
        "        shuffle=False,\n",
        "        num_workers=num_workers,\n",
        "        pin_memory=True\n",
        "    )\n",
        "\n",
        "    return train_dataloader, test_dataloader, class_names"
      ],
      "metadata": {
        "colab": {
          "base_uri": "https://localhost:8080/"
        },
        "id": "OOUvbTyL68US",
        "outputId": "83f9ba74-7f20-42c4-d49f-8edda8394583"
      },
      "execution_count": 5,
      "outputs": [
        {
          "output_type": "stream",
          "name": "stdout",
          "text": [
            "Writing going_modular/data_step.py\n"
          ]
        }
      ]
    },
    {
      "cell_type": "code",
      "source": [
        "!python going_modular/data_step.py"
      ],
      "metadata": {
        "id": "IoBMqaBWIXh1"
      },
      "execution_count": 6,
      "outputs": []
    },
    {
      "cell_type": "code",
      "source": [
        "!touch going_modular/__init__.py"
      ],
      "metadata": {
        "id": "wrlXSHOMG2ZW"
      },
      "execution_count": 7,
      "outputs": []
    },
    {
      "cell_type": "code",
      "source": [
        "# write model Class to model_builder.py\n",
        "%%writefile going_modular/model_builder.py\n",
        "\n",
        "import torch\n",
        "from torch import nn\n",
        "\n",
        "class TinyVGG(nn.Module):\n",
        "    \"\"\"Creates the TinyVGG architecture.\n",
        "\n",
        "    Replicates the TinyVGG architecture from the CNN explainer website in PyTorch.\n",
        "    See the original architecture here: https://poloclub.github.io/cnn-explainer/\n",
        "\n",
        "    Args:\n",
        "    input_shape: An integer indicating number of input channels.\n",
        "    hidden_units: An integer indicating number of hidden units between layers.\n",
        "    output_shape: An integer indicating number of output units.\n",
        "    \"\"\"\n",
        "    def __init__(self, input_shape: int, hidden_units: int, output_shape: int) -> None:\n",
        "        super().__init__()\n",
        "        self.conv_block_1 = nn.Sequential(\n",
        "          nn.Conv2d(in_channels=input_shape,\n",
        "                    out_channels=hidden_units,\n",
        "                    kernel_size=3,\n",
        "                    stride=1,\n",
        "                    padding=0),\n",
        "          nn.ReLU(),\n",
        "          nn.Conv2d(in_channels=hidden_units,\n",
        "                    out_channels=hidden_units,\n",
        "                    kernel_size=3,\n",
        "                    stride=1,\n",
        "                    padding=0),\n",
        "          nn.ReLU(),\n",
        "          nn.MaxPool2d(kernel_size=2,\n",
        "                        stride=2)\n",
        "        )\n",
        "        self.conv_block_2 = nn.Sequential(\n",
        "          nn.Conv2d(hidden_units, hidden_units, kernel_size=3, padding=0),\n",
        "          nn.ReLU(),\n",
        "          nn.Conv2d(hidden_units, hidden_units, kernel_size=3, padding=0),\n",
        "          nn.ReLU(),\n",
        "          nn.MaxPool2d(2)\n",
        "        )\n",
        "        self.classifier = nn.Sequential(\n",
        "          nn.Flatten(),\n",
        "          # Where did this in_features shape come from?\n",
        "          # It's because each layer of our network compresses and changes the shape of our inputs data.\n",
        "          nn.Linear(in_features=hidden_units*13*13,\n",
        "                    out_features=output_shape)\n",
        "        )\n",
        "\n",
        "    def forward(self, x: torch.Tensor):\n",
        "        x = self.conv_block_1(x)\n",
        "        x = self.conv_block_2(x)\n",
        "        x = self.classifier(x)\n",
        "        return x\n",
        "        # return self.classifier(self.block_2(self.block_1(x))) # <- leverage the benefits of operator fusion"
      ],
      "metadata": {
        "id": "DDEUv61jL0i9",
        "outputId": "151faa20-5d79-4759-d37b-b8f3bb5f3cd1",
        "colab": {
          "base_uri": "https://localhost:8080/"
        }
      },
      "execution_count": 8,
      "outputs": [
        {
          "output_type": "stream",
          "name": "stdout",
          "text": [
            "Writing going_modular/model_builder.py\n"
          ]
        }
      ]
    },
    {
      "cell_type": "code",
      "source": [
        "%%writefile going_modular/engine.py\n",
        "import torch\n",
        "from typing import Dict, List, Tuple\n",
        "\n",
        "def train_step(model: torch.nn.Module,\n",
        "               dataloader: torch.utils.data.DataLoader,\n",
        "               loss_fn: torch.nn.Module,\n",
        "               optimizer: torch.optim.Optimizer,\n",
        "               device: torch.device) -> Tuple[torch.Tensor, torch.Tensor]:\n",
        "\n",
        "        \"\"\"Trains a PyTorch model for a single epoch.\n",
        "        Turns a target PyTorch model to training mode and then\n",
        "        runs through all of the required training steps (forward\n",
        "        pass, loss calculation, optimizer step).\n",
        "        Args:\n",
        "        model: A PyTorch model to be trained.\n",
        "        dataloader: A DataLoader instance for the model to be trained on.\n",
        "        loss_fn: A PyTorch loss function to minimize.\n",
        "        optimizer: A PyTorch optimizer to help minimize the loss function.\n",
        "        device: A target device to compute on (e.g. \"cuda\" or \"cpu\").\n",
        "        Returns:\n",
        "        A dictionary of training loss and accuracy values per epoch.\n",
        "        \"\"\"\n",
        "\n",
        "        model.train()\n",
        "        train_loss, train_acc = 0, 0\n",
        "        for batch, (X, y) in enumerate(dataloader):\n",
        "            X, y = X.to(device), y.to(device)\n",
        "            y_pred = model(X)\n",
        "            loss = loss_fn(y_pred, y)\n",
        "            train_loss += loss.item()\n",
        "            optimizer.zero_grad()\n",
        "            loss.backward()\n",
        "            optimizer.step()\n",
        "            y_pred_class = torch.argmax(torch.softmax(y_pred, dim=1), dim=1)\n",
        "            train_acc += (y_pred_class == y).sum().item()/len(y_pred)\n",
        "\n",
        "        train_loss = train_loss / len(dataloader)\n",
        "        train_acc = train_acc / len(dataloader)\n",
        "        return train_loss, train_acc\n",
        "\n",
        "def test_step(model: torch.nn.Module,\n",
        "              dataloader: torch.utils.data.DataLoader,\n",
        "              loss_fn: torch.nn.Module,\n",
        "              device: torch.device) -> Tuple[torch.Tensor, torch.Tensor]:\n",
        "        \"\"\"Tests a PyTorch model for a single epoch.\n",
        "        Turns a target PyTorch model to \"eval\" mode and then performs\n",
        "        a forward pass on a testing dataset.\n",
        "        Args:\n",
        "        model: A PyTorch model to be tested.\n",
        "        dataloader: A DataLoader instance for the model to be tested on.\n",
        "        loss_fn: A PyTorch loss function to calculate loss on the test data.\n",
        "        device: A target device to compute on (e.g. \"cuda\" or \"cpu\").\n",
        "        Returns:\n",
        "        A dictionary of testing loss and accuracy values per epoch.\n",
        "        \"\"\"\n",
        "        model.eval()\n",
        "        test_loss, test_acc = 0, 0\n",
        "        with torch.inference_mode():\n",
        "            for batch, (X, y) in enumerate(dataloader):\n",
        "                X, y = X.to(device), y.to(device)\n",
        "                test_pred_logits = model(X)\n",
        "                loss = loss_fn(test_pred_logits, y)\n",
        "                test_loss += loss.item()\n",
        "                test_pred_labels = test_pred_logits.argmax(dim=1)\n",
        "                test_acc += ((test_pred_labels == y).sum().item()/len(test_pred_labels))\n",
        "        test_loss = test_loss / len(dataloader)\n",
        "        test_acc = test_acc / len(dataloader)\n",
        "        return test_loss, test_acc\n",
        "\n",
        "def train(model: torch.nn.Module,\n",
        "          train_dataloader: torch.utils.data.DataLoader,\n",
        "          test_dataloader: torch.utils.data.DataLoader,\n",
        "          optimizer: torch.optim.Optimizer,\n",
        "          loss_fn: torch.nn.Module,\n",
        "          epochs: int,\n",
        "          device: torch.device) -> Dict[str, List[float]]:\n",
        "        \"\"\"Trains and tests a PyTorch model.\n",
        "        Passes a target PyTorch models through train_step() and test_step()\n",
        "        functions for a number of epochs, training and testing the model\n",
        "        in the same epoch loop.\n",
        "        Calculates, prints and stores evaluation metrics throughout.\n",
        "        Args:\n",
        "        model: A PyTorch model to be trained and tested.\n",
        "        train_dataloader: A DataLoader instance for the model to be trained on.\n",
        "        test_dataloader: A DataLoader instance for the model to be tested on.\n",
        "        optimizer: A PyTorch optimizer to help minimize the loss function.\n",
        "        loss_fn: A PyTorch loss function to calculate loss on both datasets.\n",
        "        epochs: An integer indicating how many epochs to train for.\n",
        "        device: A target device to compute on (e.g. \"cuda\" or \"cpu\").\n",
        "        Returns:\n",
        "        A dictionary of training and testing loss as well as training and\n",
        "        testing accuracy metrics. Each metric has a value in a list for\n",
        "        each epoch.\n",
        "        In the form: {train_loss: [...],\n",
        "                      train_acc: [...],\n",
        "                      test_loss: [...],\n",
        "                      test_acc: [...]}\n",
        "        \"\"\"\n",
        "        results = {\"train_loss\": [],\n",
        "                   \"train_acc\": [],\n",
        "                   \"test_loss\": [],\n",
        "                   \"test_acc\": []}\n",
        "\n",
        "        for epoch in tqdm(range(epochs)):\n",
        "            train_loss, train_acc = train_step(\n",
        "                model=model,\n",
        "                dataloader=train_dataloader,\n",
        "                loss_fn=loss_fn,\n",
        "                optimizer=optimizer,\n",
        "                device=device)\n",
        "\n",
        "            test_loss, test_acc = test_step(\n",
        "                model=model,\n",
        "                dataloader=test_dataloader,\n",
        "                loss_fn=loss_fn,\n",
        "                device=device)\n",
        "\n",
        "            print(\n",
        "                f\"Epoch: {epoch+1} | \"\n",
        "                f\"train_loss: {train_loss:.4f} | \"\n",
        "                f\"train_acc: {train_acc:.4f} | \"\n",
        "                f\"test_loss: {test_loss:.4f} | \"\n",
        "                f\"test_acc: {test_acc:.4f}\")\n",
        "\n",
        "            results[\"train_loss\"].append(train_loss)\n",
        "            results[\"train_acc\"].append(train_acc)\n",
        "            results[\"test_loss\"].append(test_loss)\n",
        "            results[\"test_acc\"].append(test_acc)\n",
        "\n",
        "        return results\n",
        "\n",
        "\n",
        ""
      ],
      "metadata": {
        "id": "ge3_l7Q7R9hV",
        "outputId": "57f53699-c15a-4cb7-bf86-04b19d2da68f",
        "colab": {
          "base_uri": "https://localhost:8080/"
        }
      },
      "execution_count": 14,
      "outputs": [
        {
          "output_type": "stream",
          "name": "stdout",
          "text": [
            "Overwriting going_modular/engine.py\n"
          ]
        }
      ]
    },
    {
      "cell_type": "markdown",
      "source": [],
      "metadata": {
        "id": "nZ5adHNeUsPj"
      }
    },
    {
      "cell_type": "code",
      "source": [
        "# build the train.py script\n",
        "%%writefile going_modular/train.py\n",
        "\"\"\"\n",
        "Train an image classifier using pre-compiled modules\n",
        "\"\"\"\n",
        "train_path = 'data/pizza_steak_sushi/train'\n",
        "test_path = 'data/pizza_steak_sushi/test'\n",
        "\n",
        "import torch\n",
        "from torchvision import transforms\n",
        "import argparse\n",
        "import os\n",
        "import data_step\n",
        "import model_builder\n",
        "import engine\n",
        "\n",
        "\n",
        "# Setup default hyperparameters\n",
        "parser = argparse.ArgumentParser(description=\"Train a model with customizable hyperparameters.\")\n",
        "\n",
        "# Add arguments with default values\n",
        "parser.add_argument('--num_epochs', type=int, default=5, help='Number of training epochs (default: 5)')\n",
        "parser.add_argument('--batch_size', type=int, default=32, help='Batch size for training (default: 32)')\n",
        "parser.add_argument('--hidden_units', type=int, default=10, help='Number of hidden units in the model (default: 10)')\n",
        "parser.add_argument('--learning_rate', type=float, default=0.001, help='Learning rate for training (default: 0.001)')\n",
        "\n",
        "# Parse the command-line arguments\n",
        "args = parser.parse_args()\n",
        "\n",
        "NUM_EPOCHS = args.num_epochs\n",
        "BATCH_SIZE = args.batch_size\n",
        "HIDDEN_UNITS = args.hidden_units\n",
        "LEARNING_RATE = args.learning_rate\n",
        "\n",
        "# Setup target device\n",
        "device = \"cuda\" if torch.cuda.is_available() else \"cpu\"\n",
        "\n",
        "# Create transforms\n",
        "data_transform = transforms.Compose([\n",
        "  transforms.Resize((64, 64)),\n",
        "  transforms.ToTensor()\n",
        "])\n",
        "\n",
        "# prepare batched datasets using dataloader in data_step.py\n",
        "train_dataloader, test_dataloader, class_names = data_step.create_dataloaders(\n",
        "  train_dir=train_path,\n",
        "  test_dir=test_path,\n",
        "  transform=data_transform,\n",
        "  batch_size=BATCH_SIZE)\n",
        "\n",
        "# build model using model_builder.py\n",
        "model = model_builder.TinyVGG(\n",
        "    input_shape=3,\n",
        "    hidden_units=HIDDEN_UNITS,\n",
        "    output_shape=len(class_names)\n",
        ").to(device)\n",
        "\n",
        "# Set loss and optimizer\n",
        "loss_fn = torch.nn.CrossEntropyLoss()\n",
        "optimizer = torch.optim.Adam(model.parameters(),\n",
        "                             lr=LEARNING_RATE)\n",
        "\n",
        "# train the model with help of engine.py\n",
        "results = engine.train(model=model,\n",
        "                      train_dataloader=train_dataloader,\n",
        "                      test_dataloader=test_dataloader,\n",
        "                      loss_fn=loss_fn,\n",
        "                      optimizer=optimizer,\n",
        "                      epochs=NUM_EPOCHS,\n",
        "                      device=device)\n",
        "print(results)\n",
        "\n"
      ],
      "metadata": {
        "id": "MKNDUp45YaW-",
        "colab": {
          "base_uri": "https://localhost:8080/"
        },
        "outputId": "c076befc-5800-4d8a-adc8-c49d903d9329"
      },
      "execution_count": 15,
      "outputs": [
        {
          "output_type": "stream",
          "name": "stdout",
          "text": [
            "Overwriting going_modular/train.py\n"
          ]
        }
      ]
    },
    {
      "cell_type": "code",
      "source": [
        "# Example running of train.py\n",
        "!python going_modular/train.py --num_epochs 5 --batch_size 128 --hidden_units 128 --learning_rate 0.0003"
      ],
      "metadata": {
        "id": "LzaJl39lC40N"
      },
      "execution_count": 16,
      "outputs": []
    },
    {
      "cell_type": "markdown",
      "source": [
        "## 3. Create a Python script to predict (such as `predict.py`) on a target image given a file path with a saved model.\n",
        "\n",
        "* For example, you should be able to run the command `python predict.py some_image.jpeg` and have a trained PyTorch model predict on the image and return its prediction.\n",
        "* To see example prediction code, check out the [predicting on a custom image section in notebook 04](https://www.learnpytorch.io/04_pytorch_custom_datasets/#113-putting-custom-image-prediction-together-building-a-function).\n",
        "* You may also have to write code to load in a trained model."
      ],
      "metadata": {
        "id": "P2g6EEYvm-46"
      }
    },
    {
      "cell_type": "code",
      "source": [
        "# YOUR CODE HERE"
      ],
      "metadata": {
        "id": "HU7W6VZfYawP"
      },
      "execution_count": null,
      "outputs": []
    },
    {
      "cell_type": "code",
      "source": [
        "# Example running of predict.py\n",
        "!python predict.py --image data/pizza_steak_sushi/test/sushi/175783.jpg"
      ],
      "metadata": {
        "id": "Zcvw9sitIn6r"
      },
      "execution_count": null,
      "outputs": []
    }
  ]
}